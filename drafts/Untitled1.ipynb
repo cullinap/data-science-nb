{
 "cells": [
  {
   "cell_type": "code",
   "execution_count": 2,
   "metadata": {},
   "outputs": [
    {
     "data": {
      "text/plain": [
       "ThemeRegistry.enable('dark')"
      ]
     },
     "execution_count": 2,
     "metadata": {},
     "output_type": "execute_result"
    }
   ],
   "source": [
    "# Libraries for this section \n",
    "import numpy as np\n",
    "import pandas as pd\n",
    "import altair as alt\n",
    "alt.themes.enable('dark')"
   ]
  },
  {
   "cell_type": "code",
   "execution_count": 13,
   "metadata": {},
   "outputs": [
    {
     "name": "stdout",
     "output_type": "stream",
     "text": [
      "[[0]\n",
      " [0]\n",
      " [0]]\n",
      "\n"
     ]
    }
   ],
   "source": [
    "# https://pabloinsente.github.io/intro-linear-algebra\n",
    "\n",
    "### special vectors\n",
    "\n",
    "# zero vector: vectors comprised of zero only\n",
    "zeroV = np.array([[0],[0],[0]])\n",
    "print(zeroV)\n",
    "print('')\n",
    "\n",
    "# unit vectors: comprised of single element equal to 1\n",
    "x1 = np.array([[1,0,0]])\n",
    "print(x1)\n",
    "print('')\n",
    "\n",
    "# sparse vectors: comprised mostly of zeros "
   ]
  },
  {
   "cell_type": "code",
   "execution_count": 16,
   "metadata": {},
   "outputs": [
    {
     "data": {
      "text/plain": [
       "array([[3],\n",
       "       [6],\n",
       "       [9]])"
      ]
     },
     "execution_count": 16,
     "metadata": {},
     "output_type": "execute_result"
    }
   ],
   "source": [
    "# vector addition is an element-wise operation\n",
    "v1 = np.array([[1],[2],[3]])\n",
    "v2 = np.array([[2],[4],[6]])\n",
    "v1 + v2"
   ]
  },
  {
   "cell_type": "code",
   "execution_count": 17,
   "metadata": {},
   "outputs": [
    {
     "data": {
      "text/plain": [
       "array([[2],\n",
       "       [4],\n",
       "       [6]])"
      ]
     },
     "execution_count": 17,
     "metadata": {},
     "output_type": "execute_result"
    }
   ],
   "source": [
    "# vector scalar multiplication is element-wise\n",
    "2*v1"
   ]
  },
  {
   "cell_type": "code",
   "execution_count": 19,
   "metadata": {},
   "outputs": [
    {
     "data": {
      "text/plain": [
       "array([[16],\n",
       "       [21]])"
      ]
     },
     "execution_count": 19,
     "metadata": {},
     "output_type": "execute_result"
    }
   ],
   "source": [
    "# linear combinations: combining addition and multipication \n",
    "# gives us linear combinations\n",
    "# ax + by\n",
    "# everything in linear algebra results from linear combinations\n",
    "# linear regression is a linear combination of vectors\n",
    "\n",
    "a,b = 2,3\n",
    "x,y = np.array([[2],[3]]), np.array([[4],[5]])\n",
    "a*x + b*y"
   ]
  },
  {
   "cell_type": "code",
   "execution_count": 21,
   "metadata": {},
   "outputs": [
    {
     "name": "stdout",
     "output_type": "stream",
     "text": [
      "[[23]]\n",
      "or\n",
      "[[23]]\n"
     ]
    }
   ],
   "source": [
    "# vector vector multiplication, aka dot product, aka inner product\n",
    "print(x.T@y)\n",
    "print('or')\n",
    "print(np.dot(x.T,y))"
   ]
  },
  {
   "cell_type": "code",
   "execution_count": 22,
   "metadata": {},
   "outputs": [],
   "source": [
    "# vector space is a vector and all possible linear combinations\n",
    "# of the vector set\n",
    "\n",
    "# vector span\n",
    "# overlapping vectors span a line\n",
    "# similar to multicolinearity/colinear\n",
    "# non overlapping vectors span a plane \n",
    "# if x and y point in diff directions than span(x,y) is equal\n",
    "# to whole 2d plane - you can reach any point taking \n",
    "# combinations of ax and by\n",
    "\n",
    "# vector subspaces\n",
    "# vector space/linear subspace that lies within larger vector space\n",
    "# must include zero vecot\n",
    "# must have closure - can't \"jump out\" of 2d into 3d..nd \n",
    "# by either adding or multiplying\n"
   ]
  },
  {
   "cell_type": "code",
   "execution_count": null,
   "metadata": {},
   "outputs": [],
   "source": [
    "# linear dependence\n",
    "# redudant info\n",
    "\n",
    "# linear indpendence\n",
    "# non-redudant info\n"
   ]
  },
  {
   "cell_type": "code",
   "execution_count": null,
   "metadata": {},
   "outputs": [],
   "source": [
    "# vector null-space\n",
    "# norms\n",
    "# vector inner product, length, distance\n",
    "# vector angles and orthoganilty\n",
    "# systems of linear equations\n"
   ]
  }
 ],
 "metadata": {
  "kernelspec": {
   "display_name": "Python 3",
   "language": "python",
   "name": "python3"
  },
  "language_info": {
   "codemirror_mode": {
    "name": "ipython",
    "version": 3
   },
   "file_extension": ".py",
   "mimetype": "text/x-python",
   "name": "python",
   "nbconvert_exporter": "python",
   "pygments_lexer": "ipython3",
   "version": "3.8.5"
  }
 },
 "nbformat": 4,
 "nbformat_minor": 4
}
