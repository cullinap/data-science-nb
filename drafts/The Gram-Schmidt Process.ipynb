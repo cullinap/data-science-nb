{
 "cells": [
  {
   "cell_type": "markdown",
   "metadata": {},
   "source": [
    "##### Gram-Schmidt Orthogonalization\n",
    "> A tutorial on gram-schmidt orthogonalization\n",
    "\n",
    "- toc: true \n",
    "- badges: true\n",
    "- comments: true\n",
    "- author: Patrick Cullinane\n",
    "- categories: [linear algebra]\n"
   ]
  },
  {
   "cell_type": "markdown",
   "metadata": {},
   "source": [
    "The Gram-Schmidt process is a method for finding orthogonal vectors. One important application of this is to solve the equation $A=QR$, where each column of $A$ is a vector, each column of $Q$ are orthonormal vectors of $A$ and $R$ is an upper triangular matrix."
   ]
  },
  {
   "cell_type": "code",
   "execution_count": 3,
   "metadata": {},
   "outputs": [],
   "source": [
    "import numpy as np\n",
    "import matplotlib.pyplot as plt\n",
    "\n",
    "# function for visualizing vectors\n",
    "def plotVectors(vecs, cols, alpha=1):\n",
    "    plt.figure()\n",
    "    plt.axvline(x=0, color='#A9A9A9', zorder=0)\n",
    "    plt.axhline(y=0, color='#A9A9A9', zorder=0)\n",
    "\n",
    "    for i in range(len(vecs)):\n",
    "        x = np.concatenate([[0,0],vecs[i]])\n",
    "        plt.quiver([x[0]],\n",
    "                   [x[1]],\n",
    "                   [x[2]],\n",
    "                   [x[3]],\n",
    "                   angles='xy', scale_units='xy', scale=1, color=cols[i],\n",
    "                   alpha=alpha)"
   ]
  },
  {
   "cell_type": "markdown",
   "metadata": {},
   "source": [
    "We start with a matrix $A$\n",
    "\n",
    "For simplicity we can name each column as a vector"
   ]
  },
  {
   "cell_type": "code",
   "execution_count": 98,
   "metadata": {},
   "outputs": [
    {
     "data": {
      "text/plain": [
       "array([[4, 2],\n",
       "       [0, 4]])"
      ]
     },
     "execution_count": 98,
     "metadata": {},
     "output_type": "execute_result"
    }
   ],
   "source": [
    "A = np.array([[4,2],[0,4]]); A"
   ]
  },
  {
   "cell_type": "code",
   "execution_count": 99,
   "metadata": {},
   "outputs": [
    {
     "name": "stdout",
     "output_type": "stream",
     "text": [
      "[4 0]\n",
      "[2 4]\n"
     ]
    },
    {
     "data": {
      "image/png": "[encoded data removed]",
      "text/plain": [
       "<Figure size 432x288 with 1 Axes>"
      ]
     },
     "metadata": {
      "needs_background": "light"
     },
     "output_type": "display_data"
    }
   ],
   "source": [
    "a = A[:,0]\n",
    "b = A[:,1]\n",
    "\n",
    "print(a)\n",
    "print(b)\n",
    "\n",
    "plotVectors([a, b],['blue','green'])\n",
    "_ = plt.xlim(-1, 5)\n",
    "_ = plt.ylim(-1, 5)"
   ]
  },
  {
   "cell_type": "markdown",
   "metadata": {},
   "source": [
    "Our first objective is to find matrix $Q$ by taking each vector in $A$, making it orthogonal and then normalizing it. \n",
    "\n",
    "We make the vector orthogonal by comparing it to a previous orthogonal vector. Finally we normalize it by dividing the orthogonal vector by its length. We repeat this until we fill up our matrix $Q$.\n",
    "\n",
    "Because the first vector has no previous vector to compare it to we accept its current direction and just normalize it.\n",
    "\n",
    "This vector becomes $q1$"
   ]
  },
  {
   "cell_type": "code",
   "execution_count": 140,
   "metadata": {},
   "outputs": [
    {
     "data": {
      "image/png": "[encoded data removed]",
      "text/plain": [
       "<Figure size 432x288 with 1 Axes>"
      ]
     },
     "metadata": {
      "needs_background": "light"
     },
     "output_type": "display_data"
    }
   ],
   "source": [
    "q1 = a/np.linalg.norm(a); q1\n",
    "\n",
    "plotVectors([a, b, q1],['blue','green', 'red'])\n",
    "_ = plt.xlim(-1, 5)\n",
    "_ = plt.ylim(-1, 5)"
   ]
  },
  {
   "cell_type": "markdown",
   "metadata": {},
   "source": [
    "Now we take our second vector $q2$ we need to make it orthogonal to what we already have which is $q1$. \n",
    "\n",
    "To do this we need to subtract from vector $b$ the projection of $b$ onto $q1$\n",
    "\n",
    "The projection will be called $q2 prime$ and we can then normalize it to make $q2$."
   ]
  },
  {
   "cell_type": "code",
   "execution_count": 139,
   "metadata": {},
   "outputs": [
    {
     "name": "stdout",
     "output_type": "stream",
     "text": [
      "[0. 4.]\n",
      "\n",
      "0.0\n",
      "\n",
      "[0. 1.]\n",
      "\n"
     ]
    },
    {
     "data": {
      "image/png": "[encoded data removed]",
      "text/plain": [
       "<Figure size 432x288 with 1 Axes>"
      ]
     },
     "metadata": {
      "needs_background": "light"
     },
     "output_type": "display_data"
    }
   ],
   "source": [
    "q2_prime = b - ((a.dot(b)/a.dot(a))*a)\n",
    "print(q2_prime) # q2_prime is orthogonal to q1\n",
    "print('')\n",
    "\n",
    "# check q1 is orthogonal to q2 by doing the dot product\n",
    "print(q2_prime.dot(q1)) # small enough to be orthogonal\n",
    "print('')\n",
    "\n",
    "# the next step is to normalize it - make it q2 by dividing by the norm\n",
    "q2 = q2_prime/np.linalg.norm(q2_prime) \n",
    "print(q2)\n",
    "print('')\n",
    "\n",
    "plotVectors([a, b, q1, q2],['blue','green', 'red', 'red'])\n",
    "_ = plt.xlim(-1, 5)\n",
    "_ = plt.ylim(-1, 5)"
   ]
  },
  {
   "cell_type": "markdown",
   "metadata": {},
   "source": [
    "Finally we can see the orthonormalized vectors $q1$ and $q2$"
   ]
  },
  {
   "cell_type": "code",
   "execution_count": 141,
   "metadata": {},
   "outputs": [
    {
     "name": "stdout",
     "output_type": "stream",
     "text": [
      "[[1. 0.]\n",
      " [0. 1.]]\n",
      "\n"
     ]
    },
    {
     "data": {
      "image/png": "[encoded data removed]",
      "text/plain": [
       "<Figure size 432x288 with 1 Axes>"
      ]
     },
     "metadata": {
      "needs_background": "light"
     },
     "output_type": "display_data"
    }
   ],
   "source": [
    "Q = np.concatenate([[q1],[q2]]); print(Q)\n",
    "print('')\n",
    "\n",
    "# let's look at just the orthonormal vectors we got from gram-schmidt\n",
    "\n",
    "plotVectors([q1, q2],['red', 'red'])\n",
    "_ = plt.xlim(-1, 2)\n",
    "_ = plt.ylim(-1, 2)"
   ]
  },
  {
   "cell_type": "markdown",
   "metadata": {},
   "source": [
    "Now we need to find the matrix $R$ to complete the equation $A \\approx QR$ (in this case $A=QR$ )\n",
    "\n",
    "Since Q is a permutation matrix the calculation will be pretty easy."
   ]
  },
  {
   "cell_type": "code",
   "execution_count": 137,
   "metadata": {},
   "outputs": [
    {
     "data": {
      "text/plain": [
       "array([4., 0.])"
      ]
     },
     "execution_count": 137,
     "metadata": {},
     "output_type": "execute_result"
    }
   ],
   "source": [
    "# the first value of vector r1 is the inner product of q1 and a\n",
    "\n",
    "r1 = np.array([q1.dot(a), 0]); r1"
   ]
  },
  {
   "cell_type": "code",
   "execution_count": 138,
   "metadata": {},
   "outputs": [
    {
     "data": {
      "text/plain": [
       "array([2., 4.])"
      ]
     },
     "execution_count": 138,
     "metadata": {},
     "output_type": "execute_result"
    }
   ],
   "source": [
    "# the second vector r2 consists of the inner product of q1 and b, and q2 and b\n",
    "\n",
    "r2 = np.array([q1.dot(b), q2.dot(b)]); r2"
   ]
  },
  {
   "cell_type": "code",
   "execution_count": 133,
   "metadata": {},
   "outputs": [
    {
     "data": {
      "text/plain": [
       "array([[4., 2.],\n",
       "       [0., 4.]])"
      ]
     },
     "execution_count": 133,
     "metadata": {},
     "output_type": "execute_result"
    }
   ],
   "source": [
    "R = np.concatenate([[r1],[r2]]).T; R"
   ]
  },
  {
   "cell_type": "code",
   "execution_count": 135,
   "metadata": {},
   "outputs": [
    {
     "data": {
      "text/plain": [
       "array([[ True,  True],\n",
       "       [ True,  True]])"
      ]
     },
     "execution_count": 135,
     "metadata": {},
     "output_type": "execute_result"
    }
   ],
   "source": [
    "# we can check that the equation works\n",
    "\n",
    "A == Q.dot(R)"
   ]
  },
  {
   "cell_type": "markdown",
   "metadata": {},
   "source": [
    "Resources:\n",
    "* https://www.youtube.com/watch?v=TRktLuAktBQ"
   ]
  },
  {
   "cell_type": "code",
   "execution_count": null,
   "metadata": {},
   "outputs": [],
   "source": []
  }
 ],
 "metadata": {
  "kernelspec": {
   "display_name": "Python 3",
   "language": "python",
   "name": "python3"
  },
  "language_info": {
   "codemirror_mode": {
    "name": "ipython",
    "version": 3
   },
   "file_extension": ".py",
   "mimetype": "text/x-python",
   "name": "python",
   "nbconvert_exporter": "python",
   "pygments_lexer": "ipython3",
   "version": "3.8.5"
  }
 },
 "nbformat": 4,
 "nbformat_minor": 4
}
