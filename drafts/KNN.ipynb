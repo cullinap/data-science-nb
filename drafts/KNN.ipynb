{
 "cells": [
  {
   "cell_type": "code",
   "execution_count": 1,
   "metadata": {},
   "outputs": [],
   "source": [
    "import matplotlib.pyplot as plt\n",
    "from matplotlib import style\n",
    "style.use ('ggplot')\n",
    "import numpy as np"
   ]
  },
  {
   "cell_type": "code",
   "execution_count": 2,
   "metadata": {},
   "outputs": [],
   "source": [
    "X = np.array([[1,2],\n",
    "              [1.5,1.8],\n",
    "              [5,8],\n",
    "              [8,8],\n",
    "              [1, 0.6],\n",
    "              [9,11]\n",
    "             ])\n"
   ]
  },
  {
   "cell_type": "code",
   "execution_count": 3,
   "metadata": {},
   "outputs": [
    {
     "data": {
      "image/png": "[encoded data removed]",
      "text/plain": [
       "<Figure size 432x288 with 1 Axes>"
      ]
     },
     "metadata": {},
     "output_type": "display_data"
    }
   ],
   "source": [
    "plt.scatter(X[:,0], X[:,1], s=150)\n",
    "plt.show()"
   ]
  },
  {
   "cell_type": "code",
   "execution_count": 68,
   "metadata": {},
   "outputs": [
    {
     "data": {
      "text/plain": [
       "{0: array([1., 2.]), 1: array([1.5, 1.8])}"
      ]
     },
     "execution_count": 68,
     "metadata": {},
     "output_type": "execute_result"
    }
   ],
   "source": [
    "# we first assign centroids. In this case we can just pick the first two data points\n",
    "# because we are just splitting into two clusters we just assign one value to the first\n",
    "# cluster and another value to the other cluster\n",
    "\n",
    "# for this first iteration we are just assigning the rest of the values \n",
    "# based on their proximity to these centroids\n",
    "\n",
    "centroids = {}\n",
    "\n",
    "centroids[0] = X[0]\n",
    "centroids[1] = X[1]\n",
    "\n",
    "centroids"
   ]
  },
  {
   "cell_type": "code",
   "execution_count": 72,
   "metadata": {},
   "outputs": [
    {
     "name": "stdout",
     "output_type": "stream",
     "text": [
      "0.0\n",
      "0.5385164807134504\n"
     ]
    }
   ],
   "source": [
    "# now we create another dictionary called assignments that will\n",
    "# contain the cluster/data assignments \n",
    "\n",
    "assignments = {}\n",
    "\n",
    "# we then take each point and measure it against each centroid\n",
    "# in this first example we measure point one against the first and second centroids\n",
    "# as expected the first point minus the first centroid is zero because they are the\n",
    "# same. The first point subtracted from the second centroid shows a distance difference\n",
    "# We also take the Euclidean norm (distance) \n",
    "print(np.linalg.norm(X[0] - centroids[0]))\n",
    "print(np.linalg.norm(X[0] - centroids[1]))\n",
    "\n"
   ]
  },
  {
   "cell_type": "code",
   "execution_count": 77,
   "metadata": {},
   "outputs": [
    {
     "name": "stdout",
     "output_type": "stream",
     "text": [
      "[7.211102550927978, 7.119691004531026]\n",
      "7.119691004531026\n",
      "1\n"
     ]
    }
   ],
   "source": [
    "# we then take the norm of the point we are evaluating against each\n",
    "# centroid and we find the lowest value\n",
    "# for example on the third point\n",
    "# we find the min and its index so we can add the point to the\n",
    "# appropriate key in the dictionary\n",
    "\n",
    "d1 = np.linalg.norm(X[2] - centroids[0])\n",
    "d2 = np.linalg.norm(X[2] - centroids[1])\n",
    "d = [d1,d2]\n",
    "\n",
    "print(d)\n",
    "print(min(d))\n",
    "print(d.index(min(d)))"
   ]
  },
  {
   "cell_type": "code",
   "execution_count": 85,
   "metadata": {},
   "outputs": [
    {
     "data": {
      "text/plain": [
       "[array([1., 2.]), array([1.5, 1.8])]"
      ]
     },
     "execution_count": 85,
     "metadata": {},
     "output_type": "execute_result"
    }
   ],
   "source": [
    "[centroids[c] for c in centroids]"
   ]
  },
  {
   "cell_type": "code",
   "execution_count": 92,
   "metadata": {},
   "outputs": [
    {
     "data": {
      "text/plain": [
       "array([[ 1. ,  2. ],\n",
       "       [ 1.5,  1.8],\n",
       "       [ 5. ,  8. ],\n",
       "       [ 8. ,  8. ],\n",
       "       [ 1. ,  0.6],\n",
       "       [ 9. , 11. ]])"
      ]
     },
     "execution_count": 92,
     "metadata": {},
     "output_type": "execute_result"
    }
   ],
   "source": [
    "X"
   ]
  },
  {
   "cell_type": "code",
   "execution_count": 104,
   "metadata": {},
   "outputs": [
    {
     "data": {
      "text/plain": [
       "{0: [], 1: []}"
      ]
     },
     "execution_count": 104,
     "metadata": {},
     "output_type": "execute_result"
    }
   ],
   "source": [
    "{i: [] for i in range(2)}"
   ]
  },
  {
   "cell_type": "code",
   "execution_count": 88,
   "metadata": {},
   "outputs": [],
   "source": [
    "class KMeans:\n",
    "    \n",
    "    def __init__(self, k=2, tol=0.5, max_iter=1001):\n",
    "        self.k = k\n",
    "        self.tol = tol\n",
    "        self.max_iter = max_iter\n",
    "        \n",
    "    def fit(self, data):\n",
    "        \n",
    "        # assign first two pieces of data to centroids\n",
    "        self.centroids = {i: data[i] for i in range(self.k)}\n",
    "        \n",
    "        for i in range(self.max_iter):\n",
    "                \n",
    "            self.assignments = {i: [] for i in range(self.k)}\n",
    "            \n",
    "            for d in data:\n",
    "                self.assignments[np.argmin([np.linalg.norm(d - c) for c in self.centroids.values()])].append(d)\n",
    "            \n",
    "            prev_centroids = dict(self.centroids)\n",
    "            \n",
    "            for a in self.assignments:\n",
    "                self.centroids[a] = np.average(self.assignments[a], axis=0)\n",
    "                \n",
    "            optimized = True\n",
    "            \n",
    "            for c in self.centroids:\n",
    "                org, cur = prev_centroids[c], self.centroids[c]\n",
    "                \n",
    "                if np.sum(cur-org/org*100) > self.tol:\n",
    "                    optimized = False\n",
    "                    \n",
    "                if optimized:\n",
    "                    break\n",
    "                    \n",
    "        data = {'clustered': self.assignments, 'centroids': self.centroids}\n",
    "                    \n",
    "        return data\n",
    "    \n",
    "    def predict(self, data):\n",
    "        \n",
    "        classification = np.argmin([np.linalg.norm(data - c) for c in self.centroids.values()])\n",
    "        return classification"
   ]
  },
  {
   "cell_type": "code",
   "execution_count": 89,
   "metadata": {},
   "outputs": [],
   "source": [
    "clf = KMeans()\n",
    "clustered_data = clf.fit(X)"
   ]
  },
  {
   "cell_type": "code",
   "execution_count": 90,
   "metadata": {},
   "outputs": [
    {
     "data": {
      "text/plain": [
       "{'clustered': {0: [array([1., 2.]), array([1.5, 1.8]), array([1. , 0.6])],\n",
       "  1: [array([5., 8.]), array([8., 8.]), array([ 9., 11.])]},\n",
       " 'centroids': {0: array([1.16666667, 1.46666667]),\n",
       "  1: array([7.33333333, 9.        ])}}"
      ]
     },
     "execution_count": 90,
     "metadata": {},
     "output_type": "execute_result"
    }
   ],
   "source": [
    "clustered_data"
   ]
  },
  {
   "cell_type": "code",
   "execution_count": 104,
   "metadata": {},
   "outputs": [
    {
     "data": {
      "text/plain": [
       "array([[ 1. ,  2. ],\n",
       "       [ 1.5,  1.8],\n",
       "       [ 5. ,  8. ],\n",
       "       [ 8. ,  8. ],\n",
       "       [ 1. ,  0.6],\n",
       "       [ 9. , 11. ]])"
      ]
     },
     "execution_count": 104,
     "metadata": {},
     "output_type": "execute_result"
    }
   ],
   "source": [
    "X"
   ]
  },
  {
   "cell_type": "code",
   "execution_count": 109,
   "metadata": {},
   "outputs": [
    {
     "data": {
      "text/plain": [
       "array([7.33333333, 9.        ])"
      ]
     },
     "execution_count": 109,
     "metadata": {},
     "output_type": "execute_result"
    }
   ],
   "source": [
    "clustered_data['centroids'][1]"
   ]
  },
  {
   "cell_type": "code",
   "execution_count": 110,
   "metadata": {},
   "outputs": [
    {
     "data": {
      "image/png": "[encoded data removed]",
      "text/plain": [
       "<Figure size 432x288 with 1 Axes>"
      ]
     },
     "metadata": {},
     "output_type": "display_data"
    }
   ],
   "source": [
    "test = np.array([[1,3],\n",
    "                 [8,9],\n",
    "                 [0,3],\n",
    "                 [5,4],\n",
    "                 [6,4]\n",
    "                ])\n",
    "\n",
    "colors = 10*[\"g\",\"r\",\"c\",\"b\",\"k\"]\n",
    "\n",
    "for t in test:\n",
    "    tmp = clf.predict(t)\n",
    "    plt.scatter(t[0], t[1], marker=\"*\", color=colors[tmp], s=25, linewidths=5)\n",
    "\n",
    "plt.scatter(X[:,0], X[:,1], marker=\"X\", s=150)\n",
    "\n",
    "for i in range(2):\n",
    "    x = clustered_data['centroids'][i]\n",
    "    plt.scatter(x[0],x[1])\n",
    "    \n",
    "plt.show()"
   ]
  },
  {
   "cell_type": "code",
   "execution_count": 120,
   "metadata": {},
   "outputs": [],
   "source": [
    "# now that we see what is going on at each step all we need to do is loop through\n",
    "# all our points and see if they are close to centroid 0 or 1\n",
    "\n",
    "assignments = {0:[], 1:[]}\n",
    "\n",
    "for x in X:\n",
    "    # for each point find index of the closet centroid\n",
    "    assignments[np.argmin([np.linalg.norm(x - c) for c in centroids.values()])].append(x)\n",
    "    #idx = np.argmin([np.linalg.norm(x - c) for c in centroids.values()])\n",
    "    #assignments[idx].append(x)  "
   ]
  },
  {
   "cell_type": "code",
   "execution_count": 121,
   "metadata": {},
   "outputs": [
    {
     "data": {
      "text/plain": [
       "{0: [array([1., 2.])],\n",
       " 1: [array([1.5, 1.8]),\n",
       "  array([5., 8.]),\n",
       "  array([8., 8.]),\n",
       "  array([1. , 0.6]),\n",
       "  array([ 9., 11.])]}"
      ]
     },
     "execution_count": 121,
     "metadata": {},
     "output_type": "execute_result"
    }
   ],
   "source": [
    "assignments"
   ]
  },
  {
   "cell_type": "code",
   "execution_count": 105,
   "metadata": {},
   "outputs": [
    {
     "name": "stdout",
     "output_type": "stream",
     "text": [
      "{}\n",
      "{0: array([1., 2.]), 1: array([1.5, 1.8])}\n"
     ]
    }
   ],
   "source": [
    "centroids = {}\n",
    "print(centroids)\n",
    "\n",
    "for i in range(2):\n",
    "    centroids[i] = X[i]\n",
    "    \n",
    "print(centroids)"
   ]
  },
  {
   "cell_type": "code",
   "execution_count": 56,
   "metadata": {},
   "outputs": [],
   "source": [
    "class K_Means:\n",
    "    \n",
    "    def __init__(self, k=2, tol=0.001, max_iter=300):\n",
    "        self.k = k\n",
    "        self.tol = tol\n",
    "        self.max_iter = max_iter\n",
    "        \n",
    "    def fit(self, data):\n",
    "        self.centroids = {}\n",
    "        \n",
    "        # k classes default=2\n",
    "        for i in range(self.k):\n",
    "            # set the first two centroids to the first two data points\n",
    "            self.centroids[i] = data[i]\n",
    "        \n",
    "        for i in range(self.max_iter):\n",
    "            # contains centriods and classifications\n",
    "            self.classifications = {}\n",
    "            \n",
    "            for i in range(self.k):\n",
    "                self.classifications[i] = []\n",
    "                \n",
    "            for d in data:\n",
    "                distances = [np.linalg.norm(d - self.centroids[centroid]) for centroid in self.centroids]\n",
    "                classification = distances.index(min(distances))\n",
    "                self.classifications[classification].append(d)\n",
    "                \n",
    "            prev_centroids = dict(self.centroids)\n",
    "            \n",
    "            for classification in self.classifications:\n",
    "                pass\n",
    "                #self.centroids[classification] = np.average(self.classifications[classification], axis=0)\n",
    "                          \n",
    "    def predict(self, data):\n",
    "        pass"
   ]
  },
  {
   "cell_type": "code",
   "execution_count": 58,
   "metadata": {},
   "outputs": [],
   "source": [
    "clf = K_Means()\n",
    "clf.fit(X)"
   ]
  },
  {
   "cell_type": "code",
   "execution_count": 62,
   "metadata": {},
   "outputs": [
    {
     "data": {
      "text/plain": [
       "{0: array([1., 2.]), 1: array([1.5, 1.8])}"
      ]
     },
     "execution_count": 62,
     "metadata": {},
     "output_type": "execute_result"
    }
   ],
   "source": [
    "clf.centroids"
   ]
  },
  {
   "cell_type": "code",
   "execution_count": null,
   "metadata": {},
   "outputs": [],
   "source": []
  }
 ],
 "metadata": {
  "kernelspec": {
   "display_name": "Python 3",
   "language": "python",
   "name": "python3"
  },
  "language_info": {
   "codemirror_mode": {
    "name": "ipython",
    "version": 3
   },
   "file_extension": ".py",
   "mimetype": "text/x-python",
   "name": "python",
   "nbconvert_exporter": "python",
   "pygments_lexer": "ipython3",
   "version": "3.8.5"
  }
 },
 "nbformat": 4,
 "nbformat_minor": 4
}
